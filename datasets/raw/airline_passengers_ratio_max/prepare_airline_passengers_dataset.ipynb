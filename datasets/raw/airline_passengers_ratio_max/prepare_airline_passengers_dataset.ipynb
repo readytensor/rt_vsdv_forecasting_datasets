{
 "cells": [
  {
   "cell_type": "markdown",
   "id": "dabbbfe0",
   "metadata": {},
   "source": [
    "# Airline Passengers Dataset"
   ]
  },
  {
   "cell_type": "code",
   "execution_count": 1,
   "id": "93bf4f8e",
   "metadata": {},
   "outputs": [],
   "source": [
    "import numpy as np\n",
    "import pandas as pd\n",
    "import os\n",
    "import matplotlib.pyplot as plt\n",
    "%matplotlib inline"
   ]
  },
  {
   "cell_type": "code",
   "execution_count": 2,
   "id": "f58526b3",
   "metadata": {},
   "outputs": [],
   "source": [
    "dataset_name = \"airline_passengers_ratio_max\""
   ]
  },
  {
   "cell_type": "code",
   "execution_count": 3,
   "id": "4ae2588e",
   "metadata": {},
   "outputs": [],
   "source": [
    "input_fname = \"AirPassengers.csv\"\n",
    "output_dir = f'./../../processed/{dataset_name}/'\n",
    "os.makedirs(output_dir, exist_ok=True)\n",
    "outp_fname = os.path.join(output_dir, f'{dataset_name}.csv')\n",
    "outp_fig_fname = os.path.join(output_dir, f'{dataset_name}.png')"
   ]
  },
  {
   "cell_type": "markdown",
   "id": "c834b135",
   "metadata": {},
   "source": [
    "# Read Data"
   ]
  },
  {
   "cell_type": "code",
   "execution_count": 4,
   "id": "650f0776",
   "metadata": {},
   "outputs": [
    {
     "data": {
      "text/html": [
       "<div>\n",
       "<style scoped>\n",
       "    .dataframe tbody tr th:only-of-type {\n",
       "        vertical-align: middle;\n",
       "    }\n",
       "\n",
       "    .dataframe tbody tr th {\n",
       "        vertical-align: top;\n",
       "    }\n",
       "\n",
       "    .dataframe thead th {\n",
       "        text-align: right;\n",
       "    }\n",
       "</style>\n",
       "<table border=\"1\" class=\"dataframe\">\n",
       "  <thead>\n",
       "    <tr style=\"text-align: right;\">\n",
       "      <th></th>\n",
       "      <th>Month</th>\n",
       "      <th>#Passengers</th>\n",
       "    </tr>\n",
       "  </thead>\n",
       "  <tbody>\n",
       "    <tr>\n",
       "      <th>0</th>\n",
       "      <td>1949-01</td>\n",
       "      <td>112</td>\n",
       "    </tr>\n",
       "    <tr>\n",
       "      <th>1</th>\n",
       "      <td>1949-02</td>\n",
       "      <td>118</td>\n",
       "    </tr>\n",
       "    <tr>\n",
       "      <th>2</th>\n",
       "      <td>1949-03</td>\n",
       "      <td>132</td>\n",
       "    </tr>\n",
       "    <tr>\n",
       "      <th>3</th>\n",
       "      <td>1949-04</td>\n",
       "      <td>129</td>\n",
       "    </tr>\n",
       "    <tr>\n",
       "      <th>4</th>\n",
       "      <td>1949-05</td>\n",
       "      <td>121</td>\n",
       "    </tr>\n",
       "  </tbody>\n",
       "</table>\n",
       "</div>"
      ],
      "text/plain": [
       "     Month  #Passengers\n",
       "0  1949-01          112\n",
       "1  1949-02          118\n",
       "2  1949-03          132\n",
       "3  1949-04          129\n",
       "4  1949-05          121"
      ]
     },
     "execution_count": 4,
     "metadata": {},
     "output_type": "execute_result"
    }
   ],
   "source": [
    "data = pd.read_csv(input_fname)\n",
    "data.head()"
   ]
  },
  {
   "cell_type": "code",
   "execution_count": 5,
   "id": "196bf631",
   "metadata": {},
   "outputs": [],
   "source": [
    "series_col = \"SeriesId\"\n",
    "epoch_col = 'Month'\n",
    "time_col = 'Month'\n",
    "value_col = '#Passengers'\n",
    "exog_cols=[]"
   ]
  },
  {
   "cell_type": "markdown",
   "id": "0f22562b",
   "metadata": {},
   "source": [
    "# Insert Series Id Column"
   ]
  },
  {
   "cell_type": "code",
   "execution_count": 6,
   "id": "de27fb08",
   "metadata": {},
   "outputs": [
    {
     "data": {
      "text/html": [
       "<div>\n",
       "<style scoped>\n",
       "    .dataframe tbody tr th:only-of-type {\n",
       "        vertical-align: middle;\n",
       "    }\n",
       "\n",
       "    .dataframe tbody tr th {\n",
       "        vertical-align: top;\n",
       "    }\n",
       "\n",
       "    .dataframe thead th {\n",
       "        text-align: right;\n",
       "    }\n",
       "</style>\n",
       "<table border=\"1\" class=\"dataframe\">\n",
       "  <thead>\n",
       "    <tr style=\"text-align: right;\">\n",
       "      <th></th>\n",
       "      <th>SeriesId</th>\n",
       "      <th>Month</th>\n",
       "      <th>#Passengers</th>\n",
       "    </tr>\n",
       "  </thead>\n",
       "  <tbody>\n",
       "    <tr>\n",
       "      <th>0</th>\n",
       "      <td>airline_passengers</td>\n",
       "      <td>1949-01</td>\n",
       "      <td>112</td>\n",
       "    </tr>\n",
       "    <tr>\n",
       "      <th>1</th>\n",
       "      <td>airline_passengers</td>\n",
       "      <td>1949-02</td>\n",
       "      <td>118</td>\n",
       "    </tr>\n",
       "    <tr>\n",
       "      <th>2</th>\n",
       "      <td>airline_passengers</td>\n",
       "      <td>1949-03</td>\n",
       "      <td>132</td>\n",
       "    </tr>\n",
       "    <tr>\n",
       "      <th>3</th>\n",
       "      <td>airline_passengers</td>\n",
       "      <td>1949-04</td>\n",
       "      <td>129</td>\n",
       "    </tr>\n",
       "    <tr>\n",
       "      <th>4</th>\n",
       "      <td>airline_passengers</td>\n",
       "      <td>1949-05</td>\n",
       "      <td>121</td>\n",
       "    </tr>\n",
       "  </tbody>\n",
       "</table>\n",
       "</div>"
      ],
      "text/plain": [
       "             SeriesId    Month  #Passengers\n",
       "0  airline_passengers  1949-01          112\n",
       "1  airline_passengers  1949-02          118\n",
       "2  airline_passengers  1949-03          132\n",
       "3  airline_passengers  1949-04          129\n",
       "4  airline_passengers  1949-05          121"
      ]
     },
     "execution_count": 6,
     "metadata": {},
     "output_type": "execute_result"
    }
   ],
   "source": [
    "if series_col not in data:\n",
    "    data.insert(0, \"SeriesId\", \"airline_passengers\")\n",
    "data.head()"
   ]
  },
  {
   "cell_type": "markdown",
   "id": "05e5ec97",
   "metadata": {},
   "source": [
    "# Prepare Time Col"
   ]
  },
  {
   "cell_type": "code",
   "execution_count": 7,
   "id": "08e32c06",
   "metadata": {},
   "outputs": [
    {
     "data": {
      "text/html": [
       "<div>\n",
       "<style scoped>\n",
       "    .dataframe tbody tr th:only-of-type {\n",
       "        vertical-align: middle;\n",
       "    }\n",
       "\n",
       "    .dataframe tbody tr th {\n",
       "        vertical-align: top;\n",
       "    }\n",
       "\n",
       "    .dataframe thead th {\n",
       "        text-align: right;\n",
       "    }\n",
       "</style>\n",
       "<table border=\"1\" class=\"dataframe\">\n",
       "  <thead>\n",
       "    <tr style=\"text-align: right;\">\n",
       "      <th></th>\n",
       "      <th>SeriesId</th>\n",
       "      <th>Month</th>\n",
       "      <th>#Passengers</th>\n",
       "    </tr>\n",
       "  </thead>\n",
       "  <tbody>\n",
       "    <tr>\n",
       "      <th>0</th>\n",
       "      <td>airline_passengers</td>\n",
       "      <td>1949-01-01</td>\n",
       "      <td>112</td>\n",
       "    </tr>\n",
       "    <tr>\n",
       "      <th>1</th>\n",
       "      <td>airline_passengers</td>\n",
       "      <td>1949-02-01</td>\n",
       "      <td>118</td>\n",
       "    </tr>\n",
       "    <tr>\n",
       "      <th>2</th>\n",
       "      <td>airline_passengers</td>\n",
       "      <td>1949-03-01</td>\n",
       "      <td>132</td>\n",
       "    </tr>\n",
       "    <tr>\n",
       "      <th>3</th>\n",
       "      <td>airline_passengers</td>\n",
       "      <td>1949-04-01</td>\n",
       "      <td>129</td>\n",
       "    </tr>\n",
       "    <tr>\n",
       "      <th>4</th>\n",
       "      <td>airline_passengers</td>\n",
       "      <td>1949-05-01</td>\n",
       "      <td>121</td>\n",
       "    </tr>\n",
       "    <tr>\n",
       "      <th>...</th>\n",
       "      <td>...</td>\n",
       "      <td>...</td>\n",
       "      <td>...</td>\n",
       "    </tr>\n",
       "    <tr>\n",
       "      <th>139</th>\n",
       "      <td>airline_passengers</td>\n",
       "      <td>1960-08-01</td>\n",
       "      <td>606</td>\n",
       "    </tr>\n",
       "    <tr>\n",
       "      <th>140</th>\n",
       "      <td>airline_passengers</td>\n",
       "      <td>1960-09-01</td>\n",
       "      <td>508</td>\n",
       "    </tr>\n",
       "    <tr>\n",
       "      <th>141</th>\n",
       "      <td>airline_passengers</td>\n",
       "      <td>1960-10-01</td>\n",
       "      <td>461</td>\n",
       "    </tr>\n",
       "    <tr>\n",
       "      <th>142</th>\n",
       "      <td>airline_passengers</td>\n",
       "      <td>1960-11-01</td>\n",
       "      <td>390</td>\n",
       "    </tr>\n",
       "    <tr>\n",
       "      <th>143</th>\n",
       "      <td>airline_passengers</td>\n",
       "      <td>1960-12-01</td>\n",
       "      <td>432</td>\n",
       "    </tr>\n",
       "  </tbody>\n",
       "</table>\n",
       "<p>144 rows × 3 columns</p>\n",
       "</div>"
      ],
      "text/plain": [
       "               SeriesId       Month  #Passengers\n",
       "0    airline_passengers  1949-01-01          112\n",
       "1    airline_passengers  1949-02-01          118\n",
       "2    airline_passengers  1949-03-01          132\n",
       "3    airline_passengers  1949-04-01          129\n",
       "4    airline_passengers  1949-05-01          121\n",
       "..                  ...         ...          ...\n",
       "139  airline_passengers  1960-08-01          606\n",
       "140  airline_passengers  1960-09-01          508\n",
       "141  airline_passengers  1960-10-01          461\n",
       "142  airline_passengers  1960-11-01          390\n",
       "143  airline_passengers  1960-12-01          432\n",
       "\n",
       "[144 rows x 3 columns]"
      ]
     },
     "execution_count": 7,
     "metadata": {},
     "output_type": "execute_result"
    }
   ],
   "source": [
    "data['Month'] = data['Month'] + '-01'\n",
    "data"
   ]
  },
  {
   "cell_type": "markdown",
   "id": "7fc07a53",
   "metadata": {},
   "source": [
    "# Visualize"
   ]
  },
  {
   "cell_type": "code",
   "execution_count": 8,
   "id": "d44d4c52",
   "metadata": {},
   "outputs": [
    {
     "data": {
      "image/png": "[encoded data removed]",
      "text/plain": [
       "<Figure size 800x400 with 1 Axes>"
      ]
     },
     "metadata": {},
     "output_type": "display_data"
    }
   ],
   "source": [
    "# Adjusting the spacing between axis titles and tick labels\n",
    "plt.figure(figsize=(8, 4))\n",
    "\n",
    "# Set title and labels with a medium contrast\n",
    "font = {\n",
    "#     'family': 'serif',\n",
    "    'color':  '#4B4B4B',\n",
    "    'weight': 'normal'\n",
    "}\n",
    "\n",
    "# Plotting the data\n",
    "plt.plot(data[epoch_col], data[value_col], color='#1db1c1', linewidth=2)\n",
    "\n",
    "# Adjusting the title and labels with increased spacing\n",
    "plt.xlabel(epoch_col, fontsize=14, fontdict=font, labelpad=15)\n",
    "plt.ylabel(value_col, fontsize=14, fontdict=font, labelpad=15)\n",
    "plt.title(dataset_name, fontsize=16, fontdict=font, pad=20)\n",
    "\n",
    "# Adjusting x and y ticks\n",
    "plt.xticks(data[epoch_col][::12], rotation=45, fontsize=12)\n",
    "plt.yticks(fontsize=12)\n",
    "\n",
    "# Grid and spines adjustments\n",
    "plt.grid(True, which='both', linestyle='--', linewidth=0.5, color='#B0B0B0')\n",
    "ax = plt.gca()\n",
    "ax.spines['right'].set_visible(False)\n",
    "ax.spines['top'].set_visible(False)\n",
    "ax.spines['left'].set_color('#888888')\n",
    "ax.spines['bottom'].set_color('#888888')\n",
    "\n",
    "plt.tight_layout()\n",
    "plt.savefig(outp_fig_fname)\n",
    "plt.show()"
   ]
  },
  {
   "cell_type": "markdown",
   "id": "f16dd5b5",
   "metadata": {},
   "source": [
    "# Save Data"
   ]
  },
  {
   "cell_type": "code",
   "execution_count": 9,
   "id": "938976fe",
   "metadata": {},
   "outputs": [],
   "source": [
    "if time_col: \n",
    "    all_cols = [series_col, time_col, value_col] + exog_cols\n",
    "else: \n",
    "    all_cols = [series_col, value_col] + exog_cols\n",
    "    \n",
    "data.sort_values(by=[series_col, epoch_col], inplace=True)\n",
    "data[all_cols].to_csv(outp_fname, index=False)"
   ]
  },
  {
   "cell_type": "code",
   "execution_count": null,
   "id": "f96ece47",
   "metadata": {},
   "outputs": [],
   "source": []
  }
 ],
 "metadata": {
  "kernelspec": {
   "display_name": "Python 3 (ipykernel)",
   "language": "python",
   "name": "python3"
  },
  "language_info": {
   "codemirror_mode": {
    "name": "ipython",
    "version": 3
   },
   "file_extension": ".py",
   "mimetype": "text/x-python",
   "name": "python",
   "nbconvert_exporter": "python",
   "pygments_lexer": "ipython3",
   "version": "3.11.5"
  }
 },
 "nbformat": 4,
 "nbformat_minor": 5
}
