{
 "cells": [
  {
   "cell_type": "markdown",
   "id": "dabbbfe0",
   "metadata": {},
   "source": [
    "# Seattle Burke Gilman Trail Dataset\n",
    "\n",
    "This dataset contains hourly level pedestrian and bicycle counts at the Burke Gilman Trail in Seattle. \n",
    "There are a total of 4 series in the dataset: 2 bicycle count series (north-bound and south-bound) and 2 pedestrian count series. The data is filtered to cover the date range from 1/1/2017 to 7/31/2017. This dataset is useful for timeseries analysis involving short-term seasonalities, especially intra-day (hour-of-the-day) and intra-week (day-of-the-week) seasonalities. \n",
    "\n",
    "The dataset contains some extreme outliers, presumably due to one-off special events at the trail locations. "
   ]
  },
  {
   "cell_type": "code",
   "execution_count": 1,
   "id": "93bf4f8e",
   "metadata": {},
   "outputs": [],
   "source": [
    "import numpy as np\n",
    "import pandas as pd\n",
    "import os\n",
    "import matplotlib.pyplot as plt\n",
    "%matplotlib inline"
   ]
  },
  {
   "cell_type": "code",
   "execution_count": 2,
   "id": "f58526b3",
   "metadata": {},
   "outputs": [],
   "source": [
    "dataset_name = \"seattle_burke_gilman_trail_full\""
   ]
  },
  {
   "cell_type": "code",
   "execution_count": 3,
   "id": "4ae2588e",
   "metadata": {},
   "outputs": [],
   "source": [
    "input_fname = \"Burke_Gilman_Trail_north_of_NE_70th_St_Bicycle_and_Pedestrian_Counter_20231228.csv\"\n",
    "output_dir = f'./../../processed/{dataset_name}/'\n",
    "os.makedirs(output_dir, exist_ok=True)\n",
    "outp_fname = os.path.join(output_dir, f'{dataset_name}.csv')\n",
    "outp_fig_fname = os.path.join(output_dir, f'{dataset_name}.png')"
   ]
  },
  {
   "cell_type": "markdown",
   "id": "c834b135",
   "metadata": {},
   "source": [
    "# Read Data"
   ]
  },
  {
   "cell_type": "code",
   "execution_count": 4,
   "id": "650f0776",
   "metadata": {},
   "outputs": [
    {
     "data": {
      "text/html": [
       "<div>\n",
       "<style scoped>\n",
       "    .dataframe tbody tr th:only-of-type {\n",
       "        vertical-align: middle;\n",
       "    }\n",
       "\n",
       "    .dataframe tbody tr th {\n",
       "        vertical-align: top;\n",
       "    }\n",
       "\n",
       "    .dataframe thead th {\n",
       "        text-align: right;\n",
       "    }\n",
       "</style>\n",
       "<table border=\"1\" class=\"dataframe\">\n",
       "  <thead>\n",
       "    <tr style=\"text-align: right;\">\n",
       "      <th></th>\n",
       "      <th>Date</th>\n",
       "      <th>BGT North of NE 70th Total</th>\n",
       "      <th>Ped South</th>\n",
       "      <th>Ped North</th>\n",
       "      <th>Bike North</th>\n",
       "      <th>Bike South</th>\n",
       "    </tr>\n",
       "  </thead>\n",
       "  <tbody>\n",
       "    <tr>\n",
       "      <th>0</th>\n",
       "      <td>01/01/2019 12:00:00 AM</td>\n",
       "      <td>0.0</td>\n",
       "      <td>0.0</td>\n",
       "      <td>0.0</td>\n",
       "      <td>0.0</td>\n",
       "      <td>0.0</td>\n",
       "    </tr>\n",
       "    <tr>\n",
       "      <th>1</th>\n",
       "      <td>01/01/2019 01:00:00 AM</td>\n",
       "      <td>2.0</td>\n",
       "      <td>1.0</td>\n",
       "      <td>0.0</td>\n",
       "      <td>1.0</td>\n",
       "      <td>0.0</td>\n",
       "    </tr>\n",
       "    <tr>\n",
       "      <th>2</th>\n",
       "      <td>01/01/2019 02:00:00 AM</td>\n",
       "      <td>1.0</td>\n",
       "      <td>0.0</td>\n",
       "      <td>0.0</td>\n",
       "      <td>0.0</td>\n",
       "      <td>1.0</td>\n",
       "    </tr>\n",
       "    <tr>\n",
       "      <th>3</th>\n",
       "      <td>01/01/2019 03:00:00 AM</td>\n",
       "      <td>0.0</td>\n",
       "      <td>0.0</td>\n",
       "      <td>0.0</td>\n",
       "      <td>0.0</td>\n",
       "      <td>0.0</td>\n",
       "    </tr>\n",
       "    <tr>\n",
       "      <th>4</th>\n",
       "      <td>01/01/2019 04:00:00 AM</td>\n",
       "      <td>1.0</td>\n",
       "      <td>0.0</td>\n",
       "      <td>0.0</td>\n",
       "      <td>1.0</td>\n",
       "      <td>0.0</td>\n",
       "    </tr>\n",
       "  </tbody>\n",
       "</table>\n",
       "</div>"
      ],
      "text/plain": [
       "                     Date  BGT North of NE 70th Total  Ped South  Ped North  \\\n",
       "0  01/01/2019 12:00:00 AM                         0.0        0.0        0.0   \n",
       "1  01/01/2019 01:00:00 AM                         2.0        1.0        0.0   \n",
       "2  01/01/2019 02:00:00 AM                         1.0        0.0        0.0   \n",
       "3  01/01/2019 03:00:00 AM                         0.0        0.0        0.0   \n",
       "4  01/01/2019 04:00:00 AM                         1.0        0.0        0.0   \n",
       "\n",
       "   Bike North  Bike South  \n",
       "0         0.0         0.0  \n",
       "1         1.0         0.0  \n",
       "2         0.0         1.0  \n",
       "3         0.0         0.0  \n",
       "4         1.0         0.0  "
      ]
     },
     "execution_count": 4,
     "metadata": {},
     "output_type": "execute_result"
    }
   ],
   "source": [
    "data = pd.read_csv(input_fname)\n",
    "data.head()"
   ]
  },
  {
   "cell_type": "markdown",
   "id": "aa741977",
   "metadata": {},
   "source": [
    "# Prepare Data"
   ]
  },
  {
   "cell_type": "markdown",
   "id": "3a202ae5",
   "metadata": {},
   "source": [
    "# Drop the Total Column\n",
    "\n",
    "We will drop \"BGT North of NE 70th Total\". It's the sum of the two bike and two ped trails"
   ]
  },
  {
   "cell_type": "code",
   "execution_count": 5,
   "id": "7064f066",
   "metadata": {},
   "outputs": [],
   "source": [
    "del data['BGT North of NE 70th Total']"
   ]
  },
  {
   "cell_type": "markdown",
   "id": "013e1b12",
   "metadata": {},
   "source": [
    "## Rename Date to Datetime"
   ]
  },
  {
   "cell_type": "code",
   "execution_count": 6,
   "id": "c1ddf17e",
   "metadata": {},
   "outputs": [
    {
     "data": {
      "text/html": [
       "<div>\n",
       "<style scoped>\n",
       "    .dataframe tbody tr th:only-of-type {\n",
       "        vertical-align: middle;\n",
       "    }\n",
       "\n",
       "    .dataframe tbody tr th {\n",
       "        vertical-align: top;\n",
       "    }\n",
       "\n",
       "    .dataframe thead th {\n",
       "        text-align: right;\n",
       "    }\n",
       "</style>\n",
       "<table border=\"1\" class=\"dataframe\">\n",
       "  <thead>\n",
       "    <tr style=\"text-align: right;\">\n",
       "      <th></th>\n",
       "      <th>Datetime</th>\n",
       "      <th>Ped South</th>\n",
       "      <th>Ped North</th>\n",
       "      <th>Bike North</th>\n",
       "      <th>Bike South</th>\n",
       "    </tr>\n",
       "  </thead>\n",
       "  <tbody>\n",
       "    <tr>\n",
       "      <th>0</th>\n",
       "      <td>01/01/2019 12:00:00 AM</td>\n",
       "      <td>0.0</td>\n",
       "      <td>0.0</td>\n",
       "      <td>0.0</td>\n",
       "      <td>0.0</td>\n",
       "    </tr>\n",
       "    <tr>\n",
       "      <th>1</th>\n",
       "      <td>01/01/2019 01:00:00 AM</td>\n",
       "      <td>1.0</td>\n",
       "      <td>0.0</td>\n",
       "      <td>1.0</td>\n",
       "      <td>0.0</td>\n",
       "    </tr>\n",
       "    <tr>\n",
       "      <th>2</th>\n",
       "      <td>01/01/2019 02:00:00 AM</td>\n",
       "      <td>0.0</td>\n",
       "      <td>0.0</td>\n",
       "      <td>0.0</td>\n",
       "      <td>1.0</td>\n",
       "    </tr>\n",
       "    <tr>\n",
       "      <th>3</th>\n",
       "      <td>01/01/2019 03:00:00 AM</td>\n",
       "      <td>0.0</td>\n",
       "      <td>0.0</td>\n",
       "      <td>0.0</td>\n",
       "      <td>0.0</td>\n",
       "    </tr>\n",
       "    <tr>\n",
       "      <th>4</th>\n",
       "      <td>01/01/2019 04:00:00 AM</td>\n",
       "      <td>0.0</td>\n",
       "      <td>0.0</td>\n",
       "      <td>1.0</td>\n",
       "      <td>0.0</td>\n",
       "    </tr>\n",
       "  </tbody>\n",
       "</table>\n",
       "</div>"
      ],
      "text/plain": [
       "                 Datetime  Ped South  Ped North  Bike North  Bike South\n",
       "0  01/01/2019 12:00:00 AM        0.0        0.0         0.0         0.0\n",
       "1  01/01/2019 01:00:00 AM        1.0        0.0         1.0         0.0\n",
       "2  01/01/2019 02:00:00 AM        0.0        0.0         0.0         1.0\n",
       "3  01/01/2019 03:00:00 AM        0.0        0.0         0.0         0.0\n",
       "4  01/01/2019 04:00:00 AM        0.0        0.0         1.0         0.0"
      ]
     },
     "execution_count": 6,
     "metadata": {},
     "output_type": "execute_result"
    }
   ],
   "source": [
    "data.rename(columns={\"Date\": \"Datetime\"}, inplace=True)\n",
    "data.head()"
   ]
  },
  {
   "cell_type": "markdown",
   "id": "acdd9c7c",
   "metadata": {},
   "source": [
    "## Format the Datetime Column "
   ]
  },
  {
   "cell_type": "code",
   "execution_count": 7,
   "id": "a18d9fc7",
   "metadata": {},
   "outputs": [
    {
     "data": {
      "text/html": [
       "<div>\n",
       "<style scoped>\n",
       "    .dataframe tbody tr th:only-of-type {\n",
       "        vertical-align: middle;\n",
       "    }\n",
       "\n",
       "    .dataframe tbody tr th {\n",
       "        vertical-align: top;\n",
       "    }\n",
       "\n",
       "    .dataframe thead th {\n",
       "        text-align: right;\n",
       "    }\n",
       "</style>\n",
       "<table border=\"1\" class=\"dataframe\">\n",
       "  <thead>\n",
       "    <tr style=\"text-align: right;\">\n",
       "      <th></th>\n",
       "      <th>Datetime</th>\n",
       "      <th>Ped South</th>\n",
       "      <th>Ped North</th>\n",
       "      <th>Bike North</th>\n",
       "      <th>Bike South</th>\n",
       "    </tr>\n",
       "  </thead>\n",
       "  <tbody>\n",
       "    <tr>\n",
       "      <th>0</th>\n",
       "      <td>2019-01-01 00:00:00</td>\n",
       "      <td>0.0</td>\n",
       "      <td>0.0</td>\n",
       "      <td>0.0</td>\n",
       "      <td>0.0</td>\n",
       "    </tr>\n",
       "    <tr>\n",
       "      <th>1</th>\n",
       "      <td>2019-01-01 01:00:00</td>\n",
       "      <td>1.0</td>\n",
       "      <td>0.0</td>\n",
       "      <td>1.0</td>\n",
       "      <td>0.0</td>\n",
       "    </tr>\n",
       "    <tr>\n",
       "      <th>2</th>\n",
       "      <td>2019-01-01 02:00:00</td>\n",
       "      <td>0.0</td>\n",
       "      <td>0.0</td>\n",
       "      <td>0.0</td>\n",
       "      <td>1.0</td>\n",
       "    </tr>\n",
       "    <tr>\n",
       "      <th>3</th>\n",
       "      <td>2019-01-01 03:00:00</td>\n",
       "      <td>0.0</td>\n",
       "      <td>0.0</td>\n",
       "      <td>0.0</td>\n",
       "      <td>0.0</td>\n",
       "    </tr>\n",
       "    <tr>\n",
       "      <th>4</th>\n",
       "      <td>2019-01-01 04:00:00</td>\n",
       "      <td>0.0</td>\n",
       "      <td>0.0</td>\n",
       "      <td>1.0</td>\n",
       "      <td>0.0</td>\n",
       "    </tr>\n",
       "  </tbody>\n",
       "</table>\n",
       "</div>"
      ],
      "text/plain": [
       "             Datetime  Ped South  Ped North  Bike North  Bike South\n",
       "0 2019-01-01 00:00:00        0.0        0.0         0.0         0.0\n",
       "1 2019-01-01 01:00:00        1.0        0.0         1.0         0.0\n",
       "2 2019-01-01 02:00:00        0.0        0.0         0.0         1.0\n",
       "3 2019-01-01 03:00:00        0.0        0.0         0.0         0.0\n",
       "4 2019-01-01 04:00:00        0.0        0.0         1.0         0.0"
      ]
     },
     "execution_count": 7,
     "metadata": {},
     "output_type": "execute_result"
    }
   ],
   "source": [
    "# Convert the 'Date' column to datetime format\n",
    "data['Datetime'] = pd.to_datetime(data['Datetime'], format='%m/%d/%Y %I:%M:%S %p')\n",
    "data.head()"
   ]
  },
  {
   "cell_type": "markdown",
   "id": "3e742b6d",
   "metadata": {},
   "source": [
    "## Sort DataFrame"
   ]
  },
  {
   "cell_type": "code",
   "execution_count": 8,
   "id": "986d03de",
   "metadata": {},
   "outputs": [],
   "source": [
    "data.sort_values(by=['Datetime'], inplace=True)"
   ]
  },
  {
   "cell_type": "markdown",
   "id": "7046fa7a",
   "metadata": {},
   "source": [
    "# Filter Date to 7 months"
   ]
  },
  {
   "cell_type": "code",
   "execution_count": 9,
   "id": "be3f93e7",
   "metadata": {},
   "outputs": [],
   "source": [
    "from datetime import datetime\n",
    "start_datetime = datetime.strptime(\"2017-01-01 00-00-00\", '%Y-%m-%d %H-%M-%S')\n",
    "end_datetime = datetime.strptime(\"2017-07-31 23-59-59\", '%Y-%m-%d %H-%M-%S')\n",
    "\n",
    "data = data[(data[\"Datetime\"]>=start_datetime) & (data[\"Datetime\"]<=end_datetime)]"
   ]
  },
  {
   "cell_type": "code",
   "execution_count": 10,
   "id": "638bdaf2",
   "metadata": {},
   "outputs": [
    {
     "data": {
      "text/plain": [
       "(5088, 5)"
      ]
     },
     "execution_count": 10,
     "metadata": {},
     "output_type": "execute_result"
    }
   ],
   "source": [
    "data.shape"
   ]
  },
  {
   "cell_type": "markdown",
   "id": "f29bd910",
   "metadata": {},
   "source": [
    "## Fill Nans with Forward Fill"
   ]
  },
  {
   "cell_type": "code",
   "execution_count": 11,
   "id": "6676d7c4",
   "metadata": {},
   "outputs": [],
   "source": [
    "data.ffill(inplace=True)"
   ]
  },
  {
   "cell_type": "markdown",
   "id": "96687711",
   "metadata": {},
   "source": [
    "## Unpivot the Trails"
   ]
  },
  {
   "cell_type": "code",
   "execution_count": 12,
   "id": "68e05691",
   "metadata": {},
   "outputs": [
    {
     "data": {
      "text/html": [
       "<div>\n",
       "<style scoped>\n",
       "    .dataframe tbody tr th:only-of-type {\n",
       "        vertical-align: middle;\n",
       "    }\n",
       "\n",
       "    .dataframe tbody tr th {\n",
       "        vertical-align: top;\n",
       "    }\n",
       "\n",
       "    .dataframe thead th {\n",
       "        text-align: right;\n",
       "    }\n",
       "</style>\n",
       "<table border=\"1\" class=\"dataframe\">\n",
       "  <thead>\n",
       "    <tr style=\"text-align: right;\">\n",
       "      <th></th>\n",
       "      <th>Datetime</th>\n",
       "      <th>Trail</th>\n",
       "      <th>Count</th>\n",
       "    </tr>\n",
       "  </thead>\n",
       "  <tbody>\n",
       "    <tr>\n",
       "      <th>0</th>\n",
       "      <td>2017-01-01 00:00:00</td>\n",
       "      <td>Ped South</td>\n",
       "      <td>0.0</td>\n",
       "    </tr>\n",
       "    <tr>\n",
       "      <th>1</th>\n",
       "      <td>2017-01-01 01:00:00</td>\n",
       "      <td>Ped South</td>\n",
       "      <td>0.0</td>\n",
       "    </tr>\n",
       "    <tr>\n",
       "      <th>2</th>\n",
       "      <td>2017-01-01 02:00:00</td>\n",
       "      <td>Ped South</td>\n",
       "      <td>1.0</td>\n",
       "    </tr>\n",
       "    <tr>\n",
       "      <th>3</th>\n",
       "      <td>2017-01-01 03:00:00</td>\n",
       "      <td>Ped South</td>\n",
       "      <td>0.0</td>\n",
       "    </tr>\n",
       "    <tr>\n",
       "      <th>4</th>\n",
       "      <td>2017-01-01 04:00:00</td>\n",
       "      <td>Ped South</td>\n",
       "      <td>0.0</td>\n",
       "    </tr>\n",
       "  </tbody>\n",
       "</table>\n",
       "</div>"
      ],
      "text/plain": [
       "             Datetime      Trail  Count\n",
       "0 2017-01-01 00:00:00  Ped South    0.0\n",
       "1 2017-01-01 01:00:00  Ped South    0.0\n",
       "2 2017-01-01 02:00:00  Ped South    1.0\n",
       "3 2017-01-01 03:00:00  Ped South    0.0\n",
       "4 2017-01-01 04:00:00  Ped South    0.0"
      ]
     },
     "execution_count": 12,
     "metadata": {},
     "output_type": "execute_result"
    }
   ],
   "source": [
    "# Unpivot the data to have a long format for the trails.\n",
    "data = data.melt(id_vars=['Datetime'], var_name='Trail', value_name='Count')\n",
    "\n",
    "# Display the first few rows of the unpivoted dataset\n",
    "data.head()"
   ]
  },
  {
   "cell_type": "code",
   "execution_count": 13,
   "id": "8082296e",
   "metadata": {},
   "outputs": [
    {
     "data": {
      "text/plain": [
       "array(['Ped South', 'Ped North', 'Bike North', 'Bike South'], dtype=object)"
      ]
     },
     "execution_count": 13,
     "metadata": {},
     "output_type": "execute_result"
    }
   ],
   "source": [
    "data[\"Trail\"].unique()"
   ]
  },
  {
   "cell_type": "markdown",
   "id": "95ef5f1b",
   "metadata": {},
   "source": [
    "# Add Static Variable Indicating Bike vs Ped"
   ]
  },
  {
   "cell_type": "code",
   "execution_count": 14,
   "id": "8ce43d26",
   "metadata": {},
   "outputs": [
    {
     "data": {
      "text/html": [
       "<div>\n",
       "<style scoped>\n",
       "    .dataframe tbody tr th:only-of-type {\n",
       "        vertical-align: middle;\n",
       "    }\n",
       "\n",
       "    .dataframe tbody tr th {\n",
       "        vertical-align: top;\n",
       "    }\n",
       "\n",
       "    .dataframe thead th {\n",
       "        text-align: right;\n",
       "    }\n",
       "</style>\n",
       "<table border=\"1\" class=\"dataframe\">\n",
       "  <thead>\n",
       "    <tr style=\"text-align: right;\">\n",
       "      <th></th>\n",
       "      <th>Trail</th>\n",
       "      <th>Is_Bike_Trail</th>\n",
       "      <th>Is_Ped_Trail</th>\n",
       "    </tr>\n",
       "  </thead>\n",
       "  <tbody>\n",
       "    <tr>\n",
       "      <th>0</th>\n",
       "      <td>Ped South</td>\n",
       "      <td>0</td>\n",
       "      <td>1</td>\n",
       "    </tr>\n",
       "    <tr>\n",
       "      <th>5088</th>\n",
       "      <td>Ped North</td>\n",
       "      <td>0</td>\n",
       "      <td>1</td>\n",
       "    </tr>\n",
       "    <tr>\n",
       "      <th>10176</th>\n",
       "      <td>Bike North</td>\n",
       "      <td>1</td>\n",
       "      <td>0</td>\n",
       "    </tr>\n",
       "    <tr>\n",
       "      <th>15264</th>\n",
       "      <td>Bike South</td>\n",
       "      <td>1</td>\n",
       "      <td>0</td>\n",
       "    </tr>\n",
       "  </tbody>\n",
       "</table>\n",
       "</div>"
      ],
      "text/plain": [
       "            Trail  Is_Bike_Trail  Is_Ped_Trail\n",
       "0       Ped South              0             1\n",
       "5088    Ped North              0             1\n",
       "10176  Bike North              1             0\n",
       "15264  Bike South              1             0"
      ]
     },
     "execution_count": 14,
     "metadata": {},
     "output_type": "execute_result"
    }
   ],
   "source": [
    "# Set to 1 for Bike trails\n",
    "trail_type_map = {\n",
    "    \"Bike North\": 1,\n",
    "    \"Bike South\": 1,\n",
    "    \"Ped North\": 0,\n",
    "    \"Ped South\": 0,\n",
    "}\n",
    "\n",
    "data[\"Is_Bike_Trail\"] = data[\"Trail\"].map(trail_type_map)\n",
    "data[\"Is_Ped_Trail\"] = 1 - data[\"Is_Bike_Trail\"]\n",
    "\n",
    "data[['Trail', 'Is_Bike_Trail', 'Is_Ped_Trail']].drop_duplicates()"
   ]
  },
  {
   "cell_type": "code",
   "execution_count": 15,
   "id": "f47994f8",
   "metadata": {},
   "outputs": [
    {
     "data": {
      "text/html": [
       "<div>\n",
       "<style scoped>\n",
       "    .dataframe tbody tr th:only-of-type {\n",
       "        vertical-align: middle;\n",
       "    }\n",
       "\n",
       "    .dataframe tbody tr th {\n",
       "        vertical-align: top;\n",
       "    }\n",
       "\n",
       "    .dataframe thead th {\n",
       "        text-align: right;\n",
       "    }\n",
       "</style>\n",
       "<table border=\"1\" class=\"dataframe\">\n",
       "  <thead>\n",
       "    <tr style=\"text-align: right;\">\n",
       "      <th></th>\n",
       "      <th>Trail</th>\n",
       "      <th>Is_Bike_Trail</th>\n",
       "      <th>Is_Ped_Trail</th>\n",
       "      <th>Is_North_Trail</th>\n",
       "      <th>Is_South_Trail</th>\n",
       "    </tr>\n",
       "  </thead>\n",
       "  <tbody>\n",
       "    <tr>\n",
       "      <th>0</th>\n",
       "      <td>Ped South</td>\n",
       "      <td>0</td>\n",
       "      <td>1</td>\n",
       "      <td>0</td>\n",
       "      <td>1</td>\n",
       "    </tr>\n",
       "    <tr>\n",
       "      <th>5088</th>\n",
       "      <td>Ped North</td>\n",
       "      <td>0</td>\n",
       "      <td>1</td>\n",
       "      <td>1</td>\n",
       "      <td>0</td>\n",
       "    </tr>\n",
       "    <tr>\n",
       "      <th>10176</th>\n",
       "      <td>Bike North</td>\n",
       "      <td>1</td>\n",
       "      <td>0</td>\n",
       "      <td>1</td>\n",
       "      <td>0</td>\n",
       "    </tr>\n",
       "    <tr>\n",
       "      <th>15264</th>\n",
       "      <td>Bike South</td>\n",
       "      <td>1</td>\n",
       "      <td>0</td>\n",
       "      <td>0</td>\n",
       "      <td>1</td>\n",
       "    </tr>\n",
       "  </tbody>\n",
       "</table>\n",
       "</div>"
      ],
      "text/plain": [
       "            Trail  Is_Bike_Trail  Is_Ped_Trail  Is_North_Trail  Is_South_Trail\n",
       "0       Ped South              0             1               0               1\n",
       "5088    Ped North              0             1               1               0\n",
       "10176  Bike North              1             0               1               0\n",
       "15264  Bike South              1             0               0               1"
      ]
     },
     "execution_count": 15,
     "metadata": {},
     "output_type": "execute_result"
    }
   ],
   "source": [
    "# for direction\n",
    "trail_direction_map = {\n",
    "    \"Bike North\": 1,\n",
    "    \"Bike South\": 0,\n",
    "    \"Ped North\": 1,\n",
    "    \"Ped South\": 0,\n",
    "}\n",
    "\n",
    "data[\"Is_North_Trail\"] = data[\"Trail\"].map(trail_direction_map)\n",
    "data[\"Is_South_Trail\"] = 1 - data[\"Is_North_Trail\"]\n",
    "\n",
    "data[['Trail', 'Is_Bike_Trail', 'Is_Ped_Trail', 'Is_North_Trail', 'Is_South_Trail']].drop_duplicates()"
   ]
  },
  {
   "cell_type": "code",
   "execution_count": 16,
   "id": "c53e9890",
   "metadata": {},
   "outputs": [
    {
     "data": {
      "text/plain": [
       "(20352, 7)"
      ]
     },
     "execution_count": 16,
     "metadata": {},
     "output_type": "execute_result"
    }
   ],
   "source": [
    "data.shape"
   ]
  },
  {
   "cell_type": "code",
   "execution_count": 17,
   "id": "196bf631",
   "metadata": {},
   "outputs": [],
   "source": [
    "series_col = \"Trail\"\n",
    "epoch_col = 'Datetime'\n",
    "time_col = 'Datetime'\n",
    "value_col = 'Count'\n",
    "exog_cols=['Is_Bike_Trail', 'Is_Ped_Trail', 'Is_North_Trail', 'Is_South_Trail']"
   ]
  },
  {
   "cell_type": "markdown",
   "id": "7fc07a53",
   "metadata": {},
   "source": [
    "# Visualize"
   ]
  },
  {
   "cell_type": "code",
   "execution_count": 18,
   "id": "d44d4c52",
   "metadata": {},
   "outputs": [
    {
     "data": {
      "image/png": "[encoded data removed]",
      "text/plain": [
       "<Figure size 800x1000 with 4 Axes>"
      ]
     },
     "metadata": {},
     "output_type": "display_data"
    }
   ],
   "source": [
    "import matplotlib.pyplot as plt\n",
    "\n",
    "def plot_trends(df, series_col, val_col, epoch_col, epoch_label, num_series=10,\n",
    "                filepath=outp_fig_fname, chart_title=dataset_name):\n",
    "    \"\"\"\n",
    "    This function takes a dataframe and a number of series to chart.\n",
    "    It creates a n x 1 subplot (with n being the number of series, at most 10) and plots those series.\n",
    "    \n",
    "    Parameters:\n",
    "    df (DataFrame): dataframe.\n",
    "    num_series (int): The number of series to plot, defaulted to 10.\n",
    "    \"\"\"\n",
    "    \n",
    "    # Get the unique series from the dataframe\n",
    "    unique_series = df[series_col].unique()\n",
    "    \n",
    "    # Limit the number of series to plot\n",
    "    series_to_plot = unique_series[:min(len(unique_series), num_series)]\n",
    "    \n",
    "    # Set up the subplots\n",
    "    fig, axes = plt.subplots(nrows=min(num_series, len(series_to_plot)), ncols=1, figsize=(8, num_series*1))\n",
    "    \n",
    "    # If there's only one series to plot, axes will not be an array, so we wrap it in a list\n",
    "    if num_series == 1:\n",
    "        axes = [axes]\n",
    "    \n",
    "    # Define the color for the plots\n",
    "    plot_color = '#1db1c1'\n",
    "    \n",
    "    # Plot each series on a separate subplot\n",
    "    for i, (ax, series_id) in enumerate(zip(axes, series_to_plot)):\n",
    "        # Filter the dataframe for the current series\n",
    "        series_data = df[df[series_col] == series_id]\n",
    "                \n",
    "        # Plot the data\n",
    "        ax.plot(series_data[epoch_col], series_data[val_col], color=plot_color)\n",
    "        \n",
    "        # Set the title and labels\n",
    "        ax.set_title(series_id)\n",
    "        # ax.set_ylabel('Trend')\n",
    "        # Show x-axis grid\n",
    "        ax.xaxis.grid(True)            \n",
    "        \n",
    "        # Rotate date labels to avoid overlap\n",
    "        plt.setp(ax.xaxis.get_majorticklabels(), rotation=45, ha='right')\n",
    "    \n",
    "    plt.suptitle(chart_title, fontsize=18)\n",
    "    # Adjust layout to prevent overlap\n",
    "    plt.tight_layout()\n",
    "    # Save figure\n",
    "    plt.savefig(filepath)\n",
    "    \n",
    "    plt.show()\n",
    "\n",
    "# Plot a few series\n",
    "plot_trends(\n",
    "    data,\n",
    "    series_col=series_col,\n",
    "    val_col=value_col,\n",
    "    epoch_col=epoch_col,\n",
    "    epoch_label='Datetime',\n",
    "    num_series=10,\n",
    "    filepath=outp_fig_fname,\n",
    "    chart_title=\"Seattle Burke Gilman Trail Data\"\n",
    ")  \n"
   ]
  },
  {
   "cell_type": "markdown",
   "id": "f16dd5b5",
   "metadata": {},
   "source": [
    "# Save Data"
   ]
  },
  {
   "cell_type": "code",
   "execution_count": 19,
   "id": "938976fe",
   "metadata": {},
   "outputs": [],
   "source": [
    "if time_col: \n",
    "    all_cols = [series_col, time_col, value_col] + exog_cols\n",
    "else: \n",
    "    all_cols = [series_col, value_col] + exog_cols\n",
    "    \n",
    "data.sort_values(by=[series_col, epoch_col], inplace=True)\n",
    "data[all_cols].to_csv(outp_fname, index=False)"
   ]
  },
  {
   "cell_type": "code",
   "execution_count": 20,
   "id": "f96ece47",
   "metadata": {
    "scrolled": true
   },
   "outputs": [
    {
     "data": {
      "text/html": [
       "<div>\n",
       "<style scoped>\n",
       "    .dataframe tbody tr th:only-of-type {\n",
       "        vertical-align: middle;\n",
       "    }\n",
       "\n",
       "    .dataframe tbody tr th {\n",
       "        vertical-align: top;\n",
       "    }\n",
       "\n",
       "    .dataframe thead th {\n",
       "        text-align: right;\n",
       "    }\n",
       "</style>\n",
       "<table border=\"1\" class=\"dataframe\">\n",
       "  <thead>\n",
       "    <tr style=\"text-align: right;\">\n",
       "      <th></th>\n",
       "      <th>Trail</th>\n",
       "      <th>Datetime</th>\n",
       "      <th>Count</th>\n",
       "      <th>Is_Bike_Trail</th>\n",
       "      <th>Is_Ped_Trail</th>\n",
       "      <th>Is_North_Trail</th>\n",
       "      <th>Is_South_Trail</th>\n",
       "    </tr>\n",
       "  </thead>\n",
       "  <tbody>\n",
       "    <tr>\n",
       "      <th>10176</th>\n",
       "      <td>Bike North</td>\n",
       "      <td>2017-01-01 00:00:00</td>\n",
       "      <td>0.0</td>\n",
       "      <td>1</td>\n",
       "      <td>0</td>\n",
       "      <td>1</td>\n",
       "      <td>0</td>\n",
       "    </tr>\n",
       "    <tr>\n",
       "      <th>10177</th>\n",
       "      <td>Bike North</td>\n",
       "      <td>2017-01-01 01:00:00</td>\n",
       "      <td>1.0</td>\n",
       "      <td>1</td>\n",
       "      <td>0</td>\n",
       "      <td>1</td>\n",
       "      <td>0</td>\n",
       "    </tr>\n",
       "    <tr>\n",
       "      <th>10178</th>\n",
       "      <td>Bike North</td>\n",
       "      <td>2017-01-01 02:00:00</td>\n",
       "      <td>0.0</td>\n",
       "      <td>1</td>\n",
       "      <td>0</td>\n",
       "      <td>1</td>\n",
       "      <td>0</td>\n",
       "    </tr>\n",
       "    <tr>\n",
       "      <th>10179</th>\n",
       "      <td>Bike North</td>\n",
       "      <td>2017-01-01 03:00:00</td>\n",
       "      <td>0.0</td>\n",
       "      <td>1</td>\n",
       "      <td>0</td>\n",
       "      <td>1</td>\n",
       "      <td>0</td>\n",
       "    </tr>\n",
       "    <tr>\n",
       "      <th>10180</th>\n",
       "      <td>Bike North</td>\n",
       "      <td>2017-01-01 04:00:00</td>\n",
       "      <td>0.0</td>\n",
       "      <td>1</td>\n",
       "      <td>0</td>\n",
       "      <td>1</td>\n",
       "      <td>0</td>\n",
       "    </tr>\n",
       "  </tbody>\n",
       "</table>\n",
       "</div>"
      ],
      "text/plain": [
       "            Trail            Datetime  Count  Is_Bike_Trail  Is_Ped_Trail  \\\n",
       "10176  Bike North 2017-01-01 00:00:00    0.0              1             0   \n",
       "10177  Bike North 2017-01-01 01:00:00    1.0              1             0   \n",
       "10178  Bike North 2017-01-01 02:00:00    0.0              1             0   \n",
       "10179  Bike North 2017-01-01 03:00:00    0.0              1             0   \n",
       "10180  Bike North 2017-01-01 04:00:00    0.0              1             0   \n",
       "\n",
       "       Is_North_Trail  Is_South_Trail  \n",
       "10176               1               0  \n",
       "10177               1               0  \n",
       "10178               1               0  \n",
       "10179               1               0  \n",
       "10180               1               0  "
      ]
     },
     "execution_count": 20,
     "metadata": {},
     "output_type": "execute_result"
    }
   ],
   "source": [
    "data[all_cols].head()"
   ]
  },
  {
   "cell_type": "code",
   "execution_count": null,
   "id": "35217303",
   "metadata": {},
   "outputs": [],
   "source": []
  }
 ],
 "metadata": {
  "kernelspec": {
   "display_name": "Python 3 (ipykernel)",
   "language": "python",
   "name": "python3"
  },
  "language_info": {
   "codemirror_mode": {
    "name": "ipython",
    "version": 3
   },
   "file_extension": ".py",
   "mimetype": "text/x-python",
   "name": "python",
   "nbconvert_exporter": "python",
   "pygments_lexer": "ipython3",
   "version": "3.10.8"
  }
 },
 "nbformat": 4,
 "nbformat_minor": 5
}
