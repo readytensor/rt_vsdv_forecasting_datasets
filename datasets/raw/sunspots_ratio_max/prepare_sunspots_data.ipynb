{
 "cells": [
  {
   "cell_type": "markdown",
   "id": "9922fed6",
   "metadata": {},
   "source": [
    "# Sunspots Dataset\n",
    "\n",
    "The Sunspots dataset consists of observations of the number of sunspots on the Sun, recorded each month. It spans the time period from January 1749 to December 1983, providing a long-term view of solar activity. \n",
    "\n",
    "Sunspots are temporary phenomena on the Sun's photosphere that appear as spots darker than the surrounding areas. They are regions of reduced surface temperature caused by concentrations of magnetic field flux that inhibit convection. Sunspots usually appear in pairs of opposite magnetic polarity. Their number varies according to the approximately 11-year solar cycle.\n",
    "\n",
    "This dataset is invaluable for time series analysis and forecasting due to its longevity, regularity, and the clear cyclical patterns it presents, which are reflective of the approximately 11-year solar cycle. Researchers and analysts commonly use this dataset to practice and test forecasting models, including ARIMA, exponential smoothing, and more modern machine learning approaches. The dataset's extensive history makes it particularly suitable for studying long-term trends and cyclic behavior in solar activity, offering insights into past solar cycles and helping predict future solar phenomena. "
   ]
  },
  {
   "cell_type": "code",
   "execution_count": 1,
   "id": "d8d2d851",
   "metadata": {},
   "outputs": [],
   "source": [
    "import pandas as pd\n",
    "import os\n",
    "import sys\n",
    "import matplotlib.pyplot as plt"
   ]
  },
  {
   "cell_type": "code",
   "execution_count": 2,
   "id": "4a977c8b",
   "metadata": {},
   "outputs": [],
   "source": [
    "dataset_name = \"sunspots_ratio_max\""
   ]
  },
  {
   "cell_type": "code",
   "execution_count": 3,
   "id": "962730bb",
   "metadata": {},
   "outputs": [],
   "source": [
    "input_fname = \"sunspots.csv\"\n",
    "output_dir = f'./../../processed/{dataset_name}/'\n",
    "os.makedirs(output_dir, exist_ok=True)\n",
    "outp_fname = os.path.join(output_dir, f'{dataset_name}.csv')\n",
    "outp_fig_fname = os.path.join(output_dir, f'{dataset_name}.png')"
   ]
  },
  {
   "cell_type": "markdown",
   "id": "d93c2737",
   "metadata": {},
   "source": [
    "# Read Data"
   ]
  },
  {
   "cell_type": "code",
   "execution_count": 4,
   "id": "045676eb",
   "metadata": {},
   "outputs": [
    {
     "data": {
      "text/html": [
       "<div>\n",
       "<style scoped>\n",
       "    .dataframe tbody tr th:only-of-type {\n",
       "        vertical-align: middle;\n",
       "    }\n",
       "\n",
       "    .dataframe tbody tr th {\n",
       "        vertical-align: top;\n",
       "    }\n",
       "\n",
       "    .dataframe thead th {\n",
       "        text-align: right;\n",
       "    }\n",
       "</style>\n",
       "<table border=\"1\" class=\"dataframe\">\n",
       "  <thead>\n",
       "    <tr style=\"text-align: right;\">\n",
       "      <th></th>\n",
       "      <th>Month</th>\n",
       "      <th>Sunspots</th>\n",
       "    </tr>\n",
       "  </thead>\n",
       "  <tbody>\n",
       "    <tr>\n",
       "      <th>0</th>\n",
       "      <td>1749-01</td>\n",
       "      <td>58.0</td>\n",
       "    </tr>\n",
       "    <tr>\n",
       "      <th>1</th>\n",
       "      <td>1749-02</td>\n",
       "      <td>62.6</td>\n",
       "    </tr>\n",
       "    <tr>\n",
       "      <th>2</th>\n",
       "      <td>1749-03</td>\n",
       "      <td>70.0</td>\n",
       "    </tr>\n",
       "    <tr>\n",
       "      <th>3</th>\n",
       "      <td>1749-04</td>\n",
       "      <td>55.7</td>\n",
       "    </tr>\n",
       "    <tr>\n",
       "      <th>4</th>\n",
       "      <td>1749-05</td>\n",
       "      <td>85.0</td>\n",
       "    </tr>\n",
       "  </tbody>\n",
       "</table>\n",
       "</div>"
      ],
      "text/plain": [
       "     Month  Sunspots\n",
       "0  1749-01      58.0\n",
       "1  1749-02      62.6\n",
       "2  1749-03      70.0\n",
       "3  1749-04      55.7\n",
       "4  1749-05      85.0"
      ]
     },
     "execution_count": 4,
     "metadata": {},
     "output_type": "execute_result"
    }
   ],
   "source": [
    "data = pd.read_csv(input_fname)\n",
    "data.head()"
   ]
  },
  {
   "cell_type": "markdown",
   "id": "2b8fb9ac",
   "metadata": {},
   "source": [
    "# Prepare Data"
   ]
  },
  {
   "cell_type": "code",
   "execution_count": 5,
   "id": "ef42ee5d",
   "metadata": {},
   "outputs": [],
   "source": [
    "series_col = \"Series\"\n",
    "epoch_col = 'Month'\n",
    "epoch_label = \"Month\"\n",
    "time_col = 'Month'\n",
    "value_col = 'Sunspots'\n",
    "exog_cols = []"
   ]
  },
  {
   "cell_type": "markdown",
   "id": "7de61a19",
   "metadata": {},
   "source": [
    "## Parse the 'Period' Column as DateTime"
   ]
  },
  {
   "cell_type": "code",
   "execution_count": 6,
   "id": "b9cb49f9",
   "metadata": {},
   "outputs": [
    {
     "data": {
      "text/html": [
       "<div>\n",
       "<style scoped>\n",
       "    .dataframe tbody tr th:only-of-type {\n",
       "        vertical-align: middle;\n",
       "    }\n",
       "\n",
       "    .dataframe tbody tr th {\n",
       "        vertical-align: top;\n",
       "    }\n",
       "\n",
       "    .dataframe thead th {\n",
       "        text-align: right;\n",
       "    }\n",
       "</style>\n",
       "<table border=\"1\" class=\"dataframe\">\n",
       "  <thead>\n",
       "    <tr style=\"text-align: right;\">\n",
       "      <th></th>\n",
       "      <th>Month</th>\n",
       "      <th>Sunspots</th>\n",
       "    </tr>\n",
       "  </thead>\n",
       "  <tbody>\n",
       "    <tr>\n",
       "      <th>0</th>\n",
       "      <td>1749-01-01</td>\n",
       "      <td>58.0</td>\n",
       "    </tr>\n",
       "    <tr>\n",
       "      <th>1</th>\n",
       "      <td>1749-02-01</td>\n",
       "      <td>62.6</td>\n",
       "    </tr>\n",
       "    <tr>\n",
       "      <th>2</th>\n",
       "      <td>1749-03-01</td>\n",
       "      <td>70.0</td>\n",
       "    </tr>\n",
       "    <tr>\n",
       "      <th>3</th>\n",
       "      <td>1749-04-01</td>\n",
       "      <td>55.7</td>\n",
       "    </tr>\n",
       "    <tr>\n",
       "      <th>4</th>\n",
       "      <td>1749-05-01</td>\n",
       "      <td>85.0</td>\n",
       "    </tr>\n",
       "  </tbody>\n",
       "</table>\n",
       "</div>"
      ],
      "text/plain": [
       "       Month  Sunspots\n",
       "0 1749-01-01      58.0\n",
       "1 1749-02-01      62.6\n",
       "2 1749-03-01      70.0\n",
       "3 1749-04-01      55.7\n",
       "4 1749-05-01      85.0"
      ]
     },
     "execution_count": 6,
     "metadata": {},
     "output_type": "execute_result"
    }
   ],
   "source": [
    "# Convert the 'Month' column to datetime format in 'yyyy-mm-dd' format\n",
    "data[epoch_col] = pd.to_datetime(data[epoch_col], format='%Y-%m')\n",
    "\n",
    "data.head()"
   ]
  },
  {
   "cell_type": "code",
   "execution_count": 7,
   "id": "8b239dd3",
   "metadata": {},
   "outputs": [
    {
     "data": {
      "text/html": [
       "<div>\n",
       "<style scoped>\n",
       "    .dataframe tbody tr th:only-of-type {\n",
       "        vertical-align: middle;\n",
       "    }\n",
       "\n",
       "    .dataframe tbody tr th {\n",
       "        vertical-align: top;\n",
       "    }\n",
       "\n",
       "    .dataframe thead th {\n",
       "        text-align: right;\n",
       "    }\n",
       "</style>\n",
       "<table border=\"1\" class=\"dataframe\">\n",
       "  <thead>\n",
       "    <tr style=\"text-align: right;\">\n",
       "      <th></th>\n",
       "      <th>Month</th>\n",
       "      <th>Sunspots</th>\n",
       "    </tr>\n",
       "  </thead>\n",
       "  <tbody>\n",
       "    <tr>\n",
       "      <th>2815</th>\n",
       "      <td>1983-08-01</td>\n",
       "      <td>71.8</td>\n",
       "    </tr>\n",
       "    <tr>\n",
       "      <th>2816</th>\n",
       "      <td>1983-09-01</td>\n",
       "      <td>50.3</td>\n",
       "    </tr>\n",
       "    <tr>\n",
       "      <th>2817</th>\n",
       "      <td>1983-10-01</td>\n",
       "      <td>55.8</td>\n",
       "    </tr>\n",
       "    <tr>\n",
       "      <th>2818</th>\n",
       "      <td>1983-11-01</td>\n",
       "      <td>33.3</td>\n",
       "    </tr>\n",
       "    <tr>\n",
       "      <th>2819</th>\n",
       "      <td>1983-12-01</td>\n",
       "      <td>33.4</td>\n",
       "    </tr>\n",
       "  </tbody>\n",
       "</table>\n",
       "</div>"
      ],
      "text/plain": [
       "          Month  Sunspots\n",
       "2815 1983-08-01      71.8\n",
       "2816 1983-09-01      50.3\n",
       "2817 1983-10-01      55.8\n",
       "2818 1983-11-01      33.3\n",
       "2819 1983-12-01      33.4"
      ]
     },
     "execution_count": 7,
     "metadata": {},
     "output_type": "execute_result"
    }
   ],
   "source": [
    "data.tail()"
   ]
  },
  {
   "cell_type": "code",
   "execution_count": 8,
   "id": "b3025958",
   "metadata": {},
   "outputs": [
    {
     "data": {
      "text/plain": [
       "2820"
      ]
     },
     "execution_count": 8,
     "metadata": {},
     "output_type": "execute_result"
    }
   ],
   "source": [
    "data[epoch_col].nunique()"
   ]
  },
  {
   "cell_type": "markdown",
   "id": "dd36ebaa",
   "metadata": {},
   "source": [
    "## Aggregate to quarterly frequency"
   ]
  },
  {
   "cell_type": "code",
   "execution_count": 9,
   "id": "aeaa0e18",
   "metadata": {},
   "outputs": [],
   "source": [
    "data['Month'] = pd.to_datetime(data['Month'])\n",
    "data.set_index('Month', inplace=True)\n",
    "data = data.resample('Q').sum()\n",
    "data.reset_index(inplace=True)\n",
    "\n",
    "data.rename(columns={'Month': 'Quarter'}, inplace=True)\n",
    "time_col = 'Quarter'\n",
    "epoch_col = 'Quarter'\n",
    "epoch_col = 'Quarter'\n",
    "\n",
    "data = data.iloc[-760:]"
   ]
  },
  {
   "cell_type": "markdown",
   "id": "48f1a1a4",
   "metadata": {},
   "source": [
    "# Add series id"
   ]
  },
  {
   "cell_type": "code",
   "execution_count": 10,
   "id": "e2213c1c",
   "metadata": {},
   "outputs": [
    {
     "data": {
      "text/html": [
       "<div>\n",
       "<style scoped>\n",
       "    .dataframe tbody tr th:only-of-type {\n",
       "        vertical-align: middle;\n",
       "    }\n",
       "\n",
       "    .dataframe tbody tr th {\n",
       "        vertical-align: top;\n",
       "    }\n",
       "\n",
       "    .dataframe thead th {\n",
       "        text-align: right;\n",
       "    }\n",
       "</style>\n",
       "<table border=\"1\" class=\"dataframe\">\n",
       "  <thead>\n",
       "    <tr style=\"text-align: right;\">\n",
       "      <th></th>\n",
       "      <th>Series</th>\n",
       "      <th>Quarter</th>\n",
       "      <th>Sunspots</th>\n",
       "    </tr>\n",
       "  </thead>\n",
       "  <tbody>\n",
       "    <tr>\n",
       "      <th>180</th>\n",
       "      <td>1</td>\n",
       "      <td>1794-03-31</td>\n",
       "      <td>127.0</td>\n",
       "    </tr>\n",
       "    <tr>\n",
       "      <th>181</th>\n",
       "      <td>1</td>\n",
       "      <td>1794-06-30</td>\n",
       "      <td>125.6</td>\n",
       "    </tr>\n",
       "    <tr>\n",
       "      <th>182</th>\n",
       "      <td>1</td>\n",
       "      <td>1794-09-30</td>\n",
       "      <td>92.1</td>\n",
       "    </tr>\n",
       "    <tr>\n",
       "      <th>183</th>\n",
       "      <td>1</td>\n",
       "      <td>1794-12-31</td>\n",
       "      <td>147.3</td>\n",
       "    </tr>\n",
       "    <tr>\n",
       "      <th>184</th>\n",
       "      <td>1</td>\n",
       "      <td>1795-03-31</td>\n",
       "      <td>73.9</td>\n",
       "    </tr>\n",
       "  </tbody>\n",
       "</table>\n",
       "</div>"
      ],
      "text/plain": [
       "     Series    Quarter  Sunspots\n",
       "180       1 1794-03-31     127.0\n",
       "181       1 1794-06-30     125.6\n",
       "182       1 1794-09-30      92.1\n",
       "183       1 1794-12-31     147.3\n",
       "184       1 1795-03-31      73.9"
      ]
     },
     "execution_count": 10,
     "metadata": {},
     "output_type": "execute_result"
    }
   ],
   "source": [
    "if series_col not in data:\n",
    "    data.insert(0, series_col, 1)\n",
    "data.head()"
   ]
  },
  {
   "cell_type": "markdown",
   "id": "2c386eb0",
   "metadata": {},
   "source": [
    "# Visualize Data"
   ]
  },
  {
   "cell_type": "code",
   "execution_count": 11,
   "id": "ec4af3dd",
   "metadata": {},
   "outputs": [
    {
     "data": {
      "image/png": "[encoded data removed]",
      "text/plain": [
       "<Figure size 800x400 with 1 Axes>"
      ]
     },
     "metadata": {},
     "output_type": "display_data"
    }
   ],
   "source": [
    "# Adjusting the spacing between axis titles and tick labels\n",
    "plt.figure(figsize=(8, 4))\n",
    "\n",
    "# Set title and labels with a medium contrast\n",
    "font = {\n",
    "#     'family': 'serif',\n",
    "    'color':  '#4B4B4B',\n",
    "    'weight': 'normal'\n",
    "}\n",
    "\n",
    "# Plotting the data\n",
    "plt.plot(data[epoch_col], data[value_col], color='#1db1c1', linewidth=2)\n",
    "\n",
    "# Adjusting the title and labels with increased spacing\n",
    "plt.xlabel(epoch_col, fontsize=14, fontdict=font, labelpad=15)\n",
    "plt.ylabel(value_col, fontsize=14, fontdict=font, labelpad=15)\n",
    "plt.title(dataset_name, fontsize=16, fontdict=font, pad=20)\n",
    "\n",
    "# Adjusting x and y ticks\n",
    "plt.xticks(data[epoch_col][::240], rotation=45, fontsize=12)\n",
    "plt.yticks(fontsize=12)\n",
    "\n",
    "# Grid and spines adjustments\n",
    "plt.grid(True, which='both', linestyle='--', linewidth=0.5, color='#B0B0B0')\n",
    "ax = plt.gca()\n",
    "ax.spines['right'].set_visible(False)\n",
    "ax.spines['top'].set_visible(False)\n",
    "ax.spines['left'].set_color('#888888')\n",
    "ax.spines['bottom'].set_color('#888888')\n",
    "\n",
    "plt.tight_layout()\n",
    "plt.savefig(outp_fig_fname)\n",
    "plt.show()"
   ]
  },
  {
   "cell_type": "markdown",
   "id": "c0517cf3",
   "metadata": {},
   "source": [
    "# Save Main Data File"
   ]
  },
  {
   "cell_type": "code",
   "execution_count": 12,
   "id": "ba6bdea8",
   "metadata": {},
   "outputs": [],
   "source": [
    "if time_col: \n",
    "    all_cols = [series_col, time_col, value_col] + exog_cols\n",
    "else: \n",
    "    all_cols = [series_col, value_col] + exog_cols\n",
    "data.sort_values(by=[series_col, epoch_col], inplace=True)\n",
    "\n",
    "data[all_cols].to_csv(outp_fname, index=False)"
   ]
  },
  {
   "cell_type": "code",
   "execution_count": null,
   "id": "a425b6d8",
   "metadata": {},
   "outputs": [],
   "source": []
  }
 ],
 "metadata": {
  "kernelspec": {
   "display_name": "Python 3 (ipykernel)",
   "language": "python",
   "name": "python3"
  },
  "language_info": {
   "codemirror_mode": {
    "name": "ipython",
    "version": 3
   },
   "file_extension": ".py",
   "mimetype": "text/x-python",
   "name": "python",
   "nbconvert_exporter": "python",
   "pygments_lexer": "ipython3",
   "version": "3.10.8"
  }
 },
 "nbformat": 4,
 "nbformat_minor": 5
}
