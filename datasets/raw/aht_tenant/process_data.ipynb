{
 "cells": [
  {
   "cell_type": "code",
   "execution_count": 1,
   "metadata": {},
   "outputs": [],
   "source": [
    "import os\n",
    "import json\n",
    "import pandas as pd\n",
    "from typing import List, Tuple\n",
    "from copy import deepcopy"
   ]
  },
  {
   "cell_type": "code",
   "execution_count": 2,
   "metadata": {},
   "outputs": [],
   "source": [
    "def read_tenant_data(tenant_id: str) -> pd.DataFrame:\n",
    "    t_data = []\n",
    "    t_files = sorted(os.listdir(f'./data/{tenant_id}'))\n",
    "    for t1_file in t_files:\n",
    "        t_data.append(pd.read_csv(f'./data/{tenant_id}/{t1_file}'))\n",
    "\n",
    "    return t_data\n",
    "\n"
   ]
  },
  {
   "cell_type": "code",
   "execution_count": 3,
   "metadata": {},
   "outputs": [],
   "source": [
    "def is_same_timesteps_across_series(t_data: List[pd.DataFrame]) -> bool:\n",
    "    first_series = t_data[0]['datetime']\n",
    "    rest = t_data[1:]\n",
    "\n",
    "    for series in rest:\n",
    "        if not first_series.equals(series['datetime']):\n",
    "            return False\n",
    "    return True"
   ]
  },
  {
   "cell_type": "code",
   "execution_count": 4,
   "metadata": {},
   "outputs": [],
   "source": [
    "def assign_id_per_series(t_data: List[pd.DataFrame]) -> List[pd.DataFrame]:\n",
    "    for i, series in enumerate(t_data):\n",
    "        series.insert(0, 'queue', i+1)\n",
    "    return t_data\n"
   ]
  },
  {
   "cell_type": "code",
   "execution_count": 5,
   "metadata": {},
   "outputs": [],
   "source": [
    "t1 = read_tenant_data('t1')\n",
    "t2 = read_tenant_data('t2')\n",
    "t3 = read_tenant_data('t3')\n",
    "t4 = read_tenant_data('t4')"
   ]
  },
  {
   "cell_type": "code",
   "execution_count": 227,
   "metadata": {},
   "outputs": [
    {
     "data": {
      "text/plain": [
       "(True, True, True, True)"
      ]
     },
     "execution_count": 227,
     "metadata": {},
     "output_type": "execute_result"
    }
   ],
   "source": [
    "is_same_timesteps_across_series(t1), is_same_timesteps_across_series(t2), is_same_timesteps_across_series(t3), is_same_timesteps_across_series(t4)"
   ]
  },
  {
   "cell_type": "code",
   "execution_count": 9,
   "metadata": {},
   "outputs": [],
   "source": [
    "t1 = assign_id_per_series(t1)\n",
    "t2 = assign_id_per_series(t2)\n",
    "t3 = assign_id_per_series(t3)\n",
    "t4 = assign_id_per_series(t4)"
   ]
  },
  {
   "cell_type": "code",
   "execution_count": 10,
   "metadata": {},
   "outputs": [],
   "source": [
    "t1 = pd.concat(t1)\n",
    "t2 = pd.concat(t2)\n",
    "t3 = pd.concat(t3)\n",
    "t4 = pd.concat(t4)"
   ]
  },
  {
   "cell_type": "code",
   "execution_count": 13,
   "metadata": {},
   "outputs": [],
   "source": [
    "output_dir = f'./../../processed/'\n",
    "\n",
    "t1_dir = f'{output_dir}/aht_tenant_1_ratio_max'\n",
    "t2_dir = f'{output_dir}/aht_tenant_2_ratio_max'\n",
    "t3_dir = f'{output_dir}/aht_tenant_3_ratio_max'\n",
    "t4_dir = f'{output_dir}/aht_tenant_4_ratio_max'\n",
    "\n",
    "os.makedirs(t1_dir, exist_ok=True)\n",
    "os.makedirs(t2_dir, exist_ok=True)\n",
    "os.makedirs(t3_dir, exist_ok=True)\n",
    "os.makedirs(t4_dir, exist_ok=True)\n",
    "\n",
    "t1.to_csv(f'{t1_dir}/aht_tenant_1_ratio_max.csv', index=False)\n",
    "t2.to_csv(f'{t2_dir}/aht_tenant_2_ratio_max.csv', index=False)\n",
    "t3.to_csv(f'{t3_dir}/aht_tenant_3_ratio_max.csv', index=False)\n",
    "t4.to_csv(f'{t4_dir}/aht_tenant_4_ratio_max.csv', index=False)"
   ]
  },
  {
   "cell_type": "code",
   "execution_count": null,
   "metadata": {},
   "outputs": [],
   "source": [
    "# def split_with_ratio(df_data: List[pd.DataFrame], ratio: int='max') -> Tuple[pd.DataFrame, pd.DataFrame]:\n",
    "#     df_data_copy = deepcopy(df_data)\n",
    "#     all_train_data, all_test_data = [], []\n",
    "#     forecast_horizon = 4 * 24 * 7 # 4 readings per hour, 24 hours per day, 7 days per week\n",
    "#     for series in df_data_copy:\n",
    "#         test_data = series.iloc[-forecast_horizon:]\n",
    "#         train_data = series.iloc[:-forecast_horizon]\n",
    "\n",
    "#         if ratio != 'max':\n",
    "#             train_len = ratio * forecast_horizon\n",
    "#             train_data = train_data.iloc[-train_len:]\n",
    "\n",
    "#         all_train_data.append(train_data)\n",
    "#         all_test_data.append(test_data)\n",
    "\n",
    "#     return pd.concat(all_train_data), pd.concat(all_test_data)\n"
   ]
  },
  {
   "cell_type": "code",
   "execution_count": null,
   "metadata": {},
   "outputs": [],
   "source": [
    "# schema = {\n",
    "#   \"title\": \"TBD\",\n",
    "#   \"description\": \"TBD\",\n",
    "#   \"modelCategory\": \"forecasting\",\n",
    "#   \"schemaVersion\": 1.0,\n",
    "#   \"inputDataFormat\": \"CSV\",\n",
    "#   \"encoding\": \"utf-8\",\n",
    "#   \"frequency\": \"OTHER\",\n",
    "#   \"forecastLength\": 672,\n",
    "#   \"idField\": {\n",
    "#     \"name\": \"queue\",\n",
    "#     \"description\": \"TBD\"\n",
    "#   },\n",
    "#   \"timeField\": {\n",
    "#     \"name\": \"datetime\",\n",
    "#     \"description\": \"Date and time of the observation.\",\n",
    "#     \"dataType\": \"DATETIME\",\n",
    "#     \"example\": \"2023-11-04 00:00:00\"\n",
    "#   },\n",
    "#   \"forecastTarget\": {\n",
    "#     \"name\": \"target\",\n",
    "#     \"description\": \"TBD\",\n",
    "#     \"dataType\": \"NUMERIC\",\n",
    "#     \"example\": 5.0\n",
    "#   },\n",
    "#   \"pastCovariates\": [],\n",
    "#   \"futureCovariates\": ['covariate1', 'covariate2', 'covariate3'],\n",
    "#   \"staticCovariates\": []\n",
    "# }\n"
   ]
  },
  {
   "cell_type": "code",
   "execution_count": null,
   "metadata": {},
   "outputs": [],
   "source": [
    "# ratios = [2, 4, 6, 8, 10, 'max']\n",
    "# for i, tenant in enumerate([t1, t2, t3, t4]):\n",
    "#     for ratio in ratios:\n",
    "#         save_dir_path = f'./data/processed_data/aht_tenant_{i+1}_ratio_{ratio}'\n",
    "#         train_file_name = f'aht_tenant_{i+1}_ratio_{ratio}_train.csv'\n",
    "#         test_file_name = f'aht_tenant_{i+1}_ratio_{ratio}_test.csv'\n",
    "#         test_key_file_name = f'aht_tenant_{i+1}_ratio_{ratio}_test_key.csv'\n",
    "#         train_fpath = os.path.join(save_dir_path, train_file_name)\n",
    "#         test_fpath = os.path.join(save_dir_path, test_file_name)\n",
    "#         test_key_fpath = os.path.join(save_dir_path, test_key_file_name)\n",
    "#         schema_fpath = os.path.join(save_dir_path, f'aht_tenant_{i+1}_ratio_{ratio}_schema.json')\n",
    "#         os.makedirs(save_dir_path, exist_ok=True)\n",
    "\n",
    "#         train_data, test_data = split_with_ratio(tenant, ratio)\n",
    "#         test_target_values = test_data['target']\n",
    "#         test_key_data = test_data.copy()\n",
    "#         test_data.drop(columns=['target'], inplace=True)\n",
    "#         test_key_data.drop(columns=['covariate1', 'covariate2', 'covariate3'], inplace=True)\n",
    "\n",
    "#         train_data.to_csv(train_fpath, index=False)\n",
    "#         test_data.to_csv(test_fpath, index=False)\n",
    "#         test_key_data.to_csv(test_key_fpath, index=False)\n",
    "\n",
    "#         with open(schema_fpath, 'w') as f:\n",
    "#             schema['title'] = f'aht_tenant_{i+1}_ratio_{ratio}'\n",
    "#             json.dump(schema, f, indent=4)\n",
    "            \n",
    "        \n",
    "        \n"
   ]
  },
  {
   "cell_type": "code",
   "execution_count": null,
   "metadata": {},
   "outputs": [],
   "source": []
  }
 ],
 "metadata": {
  "kernelspec": {
   "display_name": "Python 3",
   "language": "python",
   "name": "python3"
  },
  "language_info": {
   "codemirror_mode": {
    "name": "ipython",
    "version": 3
   },
   "file_extension": ".py",
   "mimetype": "text/x-python",
   "name": "python",
   "nbconvert_exporter": "python",
   "pygments_lexer": "ipython3",
   "version": "3.11.0"
  }
 },
 "nbformat": 4,
 "nbformat_minor": 2
}
